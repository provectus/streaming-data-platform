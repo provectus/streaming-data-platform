{
 "cells": [
  {
   "cell_type": "code",
   "execution_count": 2,
   "metadata": {},
   "outputs": [],
   "source": [
    "import io\n",
    "\n",
    "import boto3\n",
    "import numpy as np\n",
    "import pandas as pd\n",
    "import pyarrow.parquet as pq\n",
    "import sagemaker as sage\n",
    "from IPython.display import display"
   ]
  },
  {
   "cell_type": "code",
   "execution_count": 3,
   "metadata": {},
   "outputs": [],
   "source": [
    "S3_BUCKET_NAME = 'newfdsb'"
   ]
  },
  {
   "cell_type": "code",
   "execution_count": 4,
   "metadata": {},
   "outputs": [
    {
     "data": {
      "text/plain": [
       "Session(region_name='us-west-2')"
      ]
     },
     "execution_count": 4,
     "metadata": {},
     "output_type": "execute_result"
    }
   ],
   "source": [
    "boto_session = boto3.Session(\n",
    "    aws_access_key_id='',\n",
    "    aws_secret_access_key='',\n",
    "    region_name='us-west-2'\n",
    ")\n",
    "boto_session"
   ]
  },
  {
   "cell_type": "code",
   "execution_count": 5,
   "metadata": {},
   "outputs": [],
   "source": [
    "sess = sage.Session(boto_session)\n",
    "s3 = sess.boto_session.resource('s3')"
   ]
  },
  {
   "cell_type": "markdown",
   "metadata": {},
   "source": [
    "## Parquet files downloading:"
   ]
  },
  {
   "cell_type": "code",
   "execution_count": 6,
   "metadata": {},
   "outputs": [],
   "source": [
    "def read_parquet_from_s3_as_df(s3_resource, bucket_name: str, file_key: str) -> pd.DataFrame:\n",
    "    parquet_obj = s3_resource.Object(bucket_name, file_key)\n",
    "    buffer = io.BytesIO()\n",
    "    parquet_obj.download_fileobj(buffer)\n",
    "    df = pd.read_parquet(buffer)\n",
    "    buffer.close()\n",
    "    return df"
   ]
  },
  {
   "cell_type": "code",
   "execution_count": 7,
   "metadata": {
    "scrolled": true
   },
   "outputs": [
    {
     "data": {
      "text/html": [
       "<div>\n",
       "<style scoped>\n",
       "    .dataframe tbody tr th:only-of-type {\n",
       "        vertical-align: middle;\n",
       "    }\n",
       "\n",
       "    .dataframe tbody tr th {\n",
       "        vertical-align: top;\n",
       "    }\n",
       "\n",
       "    .dataframe thead th {\n",
       "        text-align: right;\n",
       "    }\n",
       "</style>\n",
       "<table border=\"1\" class=\"dataframe\">\n",
       "  <thead>\n",
       "    <tr style=\"text-align: right;\">\n",
       "      <th></th>\n",
       "      <th>txid</th>\n",
       "      <th>type</th>\n",
       "      <th>win_price</th>\n",
       "      <th>appuid</th>\n",
       "      <th>campaign_item_id</th>\n",
       "      <th>creative_category</th>\n",
       "      <th>creative_id</th>\n",
       "      <th>domain</th>\n",
       "    </tr>\n",
       "  </thead>\n",
       "  <tbody>\n",
       "    <tr>\n",
       "      <th>0</th>\n",
       "      <td>61da1f55-d040-47ec-adf7-a7d57c55e052</td>\n",
       "      <td>click</td>\n",
       "      <td>NaN</td>\n",
       "      <td>None</td>\n",
       "      <td>NaN</td>\n",
       "      <td>None</td>\n",
       "      <td>None</td>\n",
       "      <td>None</td>\n",
       "    </tr>\n",
       "    <tr>\n",
       "      <th>1</th>\n",
       "      <td>deaf9911-054e-4531-ba01-074bb4c171fb</td>\n",
       "      <td>bid</td>\n",
       "      <td>0.0</td>\n",
       "      <td>3gYaYlNEbN</td>\n",
       "      <td>1306029.0</td>\n",
       "      <td>8CgznkdgQk</td>\n",
       "      <td>qnROFVHsLj</td>\n",
       "      <td>JyyQQuKacg</td>\n",
       "    </tr>\n",
       "    <tr>\n",
       "      <th>2</th>\n",
       "      <td>9b9615f7-e86e-4719-8f8f-d06f5fd19b13</td>\n",
       "      <td>click</td>\n",
       "      <td>NaN</td>\n",
       "      <td>None</td>\n",
       "      <td>NaN</td>\n",
       "      <td>None</td>\n",
       "      <td>None</td>\n",
       "      <td>None</td>\n",
       "    </tr>\n",
       "    <tr>\n",
       "      <th>3</th>\n",
       "      <td>e949655e-f503-49b2-945d-4f141704cf6e</td>\n",
       "      <td>click</td>\n",
       "      <td>NaN</td>\n",
       "      <td>None</td>\n",
       "      <td>NaN</td>\n",
       "      <td>None</td>\n",
       "      <td>None</td>\n",
       "      <td>None</td>\n",
       "    </tr>\n",
       "    <tr>\n",
       "      <th>4</th>\n",
       "      <td>05a68561-e08f-460a-95c3-b912eb519975</td>\n",
       "      <td>bid</td>\n",
       "      <td>0.0</td>\n",
       "      <td>3gYaYlNEbN</td>\n",
       "      <td>1306029.0</td>\n",
       "      <td>8CgznkdgQk</td>\n",
       "      <td>qnROFVHsLj</td>\n",
       "      <td>JyyQQuKacg</td>\n",
       "    </tr>\n",
       "  </tbody>\n",
       "</table>\n",
       "</div>"
      ],
      "text/plain": [
       "                                   txid   type  win_price      appuid  \\\n",
       "0  61da1f55-d040-47ec-adf7-a7d57c55e052  click        NaN        None   \n",
       "1  deaf9911-054e-4531-ba01-074bb4c171fb    bid        0.0  3gYaYlNEbN   \n",
       "2  9b9615f7-e86e-4719-8f8f-d06f5fd19b13  click        NaN        None   \n",
       "3  e949655e-f503-49b2-945d-4f141704cf6e  click        NaN        None   \n",
       "4  05a68561-e08f-460a-95c3-b912eb519975    bid        0.0  3gYaYlNEbN   \n",
       "\n",
       "   campaign_item_id creative_category creative_id      domain  \n",
       "0               NaN              None        None        None  \n",
       "1         1306029.0        8CgznkdgQk  qnROFVHsLj  JyyQQuKacg  \n",
       "2               NaN              None        None        None  \n",
       "3               NaN              None        None        None  \n",
       "4         1306029.0        8CgznkdgQk  qnROFVHsLj  JyyQQuKacg  "
      ]
     },
     "execution_count": 7,
     "metadata": {},
     "output_type": "execute_result"
    }
   ],
   "source": [
    "bcns_df = read_parquet_from_s3_as_df(s3, S3_BUCKET_NAME, 'parquet/bcns/year=2019/day=17914/data.parquet')\n",
    "bcns_df.head()"
   ]
  },
  {
   "cell_type": "code",
   "execution_count": 8,
   "metadata": {},
   "outputs": [
    {
     "data": {
      "text/html": [
       "<div>\n",
       "<style scoped>\n",
       "    .dataframe tbody tr th:only-of-type {\n",
       "        vertical-align: middle;\n",
       "    }\n",
       "\n",
       "    .dataframe tbody tr th {\n",
       "        vertical-align: top;\n",
       "    }\n",
       "\n",
       "    .dataframe thead th {\n",
       "        text-align: right;\n",
       "    }\n",
       "</style>\n",
       "<table border=\"1\" class=\"dataframe\">\n",
       "  <thead>\n",
       "    <tr style=\"text-align: right;\">\n",
       "      <th></th>\n",
       "      <th>txid</th>\n",
       "      <th>campaign_item_id</th>\n",
       "      <th>domain</th>\n",
       "      <th>creative_id</th>\n",
       "      <th>creative_category</th>\n",
       "      <th>appuid</th>\n",
       "      <th>win_price</th>\n",
       "    </tr>\n",
       "  </thead>\n",
       "  <tbody>\n",
       "    <tr>\n",
       "      <th>0</th>\n",
       "      <td>e6b4c5cc-7fb3-4527-924d-3588e496d234</td>\n",
       "      <td>1306029</td>\n",
       "      <td>JyyQQuKacg</td>\n",
       "      <td>qnROFVHsLj</td>\n",
       "      <td>8CgznkdgQk</td>\n",
       "      <td>3gYaYlNEbN</td>\n",
       "      <td>10</td>\n",
       "    </tr>\n",
       "    <tr>\n",
       "      <th>1</th>\n",
       "      <td>8529bf8a-c127-4a20-8cbc-75019dd203ff</td>\n",
       "      <td>1306029</td>\n",
       "      <td>JyyQQuKacg</td>\n",
       "      <td>qnROFVHsLj</td>\n",
       "      <td>8CgznkdgQk</td>\n",
       "      <td>3gYaYlNEbN</td>\n",
       "      <td>10</td>\n",
       "    </tr>\n",
       "    <tr>\n",
       "      <th>2</th>\n",
       "      <td>a826d470-53e1-4ed7-9494-b61d51e6cd65</td>\n",
       "      <td>1306029</td>\n",
       "      <td>JyyQQuKacg</td>\n",
       "      <td>qnROFVHsLj</td>\n",
       "      <td>8CgznkdgQk</td>\n",
       "      <td>3gYaYlNEbN</td>\n",
       "      <td>10</td>\n",
       "    </tr>\n",
       "    <tr>\n",
       "      <th>3</th>\n",
       "      <td>817e4447-ea40-49b1-b55a-5cf2456ea0b3</td>\n",
       "      <td>1306029</td>\n",
       "      <td>JyyQQuKacg</td>\n",
       "      <td>qnROFVHsLj</td>\n",
       "      <td>8CgznkdgQk</td>\n",
       "      <td>3gYaYlNEbN</td>\n",
       "      <td>10</td>\n",
       "    </tr>\n",
       "    <tr>\n",
       "      <th>4</th>\n",
       "      <td>698aa9b6-c449-4f35-9514-2faea4432851</td>\n",
       "      <td>1306029</td>\n",
       "      <td>JyyQQuKacg</td>\n",
       "      <td>qnROFVHsLj</td>\n",
       "      <td>8CgznkdgQk</td>\n",
       "      <td>3gYaYlNEbN</td>\n",
       "      <td>10</td>\n",
       "    </tr>\n",
       "  </tbody>\n",
       "</table>\n",
       "</div>"
      ],
      "text/plain": [
       "                                   txid  campaign_item_id      domain  \\\n",
       "0  e6b4c5cc-7fb3-4527-924d-3588e496d234           1306029  JyyQQuKacg   \n",
       "1  8529bf8a-c127-4a20-8cbc-75019dd203ff           1306029  JyyQQuKacg   \n",
       "2  a826d470-53e1-4ed7-9494-b61d51e6cd65           1306029  JyyQQuKacg   \n",
       "3  817e4447-ea40-49b1-b55a-5cf2456ea0b3           1306029  JyyQQuKacg   \n",
       "4  698aa9b6-c449-4f35-9514-2faea4432851           1306029  JyyQQuKacg   \n",
       "\n",
       "  creative_id creative_category      appuid  win_price  \n",
       "0  qnROFVHsLj        8CgznkdgQk  3gYaYlNEbN         10  \n",
       "1  qnROFVHsLj        8CgznkdgQk  3gYaYlNEbN         10  \n",
       "2  qnROFVHsLj        8CgznkdgQk  3gYaYlNEbN         10  \n",
       "3  qnROFVHsLj        8CgznkdgQk  3gYaYlNEbN         10  \n",
       "4  qnROFVHsLj        8CgznkdgQk  3gYaYlNEbN         10  "
      ]
     },
     "execution_count": 8,
     "metadata": {},
     "output_type": "execute_result"
    }
   ],
   "source": [
    "impressions_df = read_parquet_from_s3_as_df(s3, S3_BUCKET_NAME, 'parquet/impressions/year=2019/day=17914/data.parquet')\n",
    "impressions_df.head()"
   ]
  },
  {
   "cell_type": "markdown",
   "metadata": {},
   "source": [
    "## Prepairing dumb training data:"
   ]
  },
  {
   "cell_type": "markdown",
   "metadata": {},
   "source": [
    "Categorical to numeric mapping:"
   ]
  },
  {
   "cell_type": "code",
   "execution_count": 9,
   "metadata": {},
   "outputs": [],
   "source": [
    "categorical_mappings = {}\n",
    "for column_name in ['campaign_item_id', 'domain', 'creative_id', 'creative_category']:\n",
    "    unique_categories = set(bcns_df[column_name].dropna().unique()) \\\n",
    "        | set(impressions_df[column_name].dropna().unique())\n",
    "    categorical_mappings[column_name] = dict(zip(unique_categories, range(len(unique_categories))))\n",
    "    \n",
    "del column_name, unique_categories"
   ]
  },
  {
   "cell_type": "code",
   "execution_count": 10,
   "metadata": {},
   "outputs": [
    {
     "data": {
      "text/plain": [
       "{'campaign_item_id': {1690211.0: 0,\n",
       "  1216772.0: 1,\n",
       "  1306029.0: 2,\n",
       "  1042798.0: 3,\n",
       "  1708722.0: 4,\n",
       "  1843637.0: 5},\n",
       " 'domain': {'JyyQQuKacg': 0,\n",
       "  '6UHb0iRpzo': 1,\n",
       "  'YihcuvbEcN': 2,\n",
       "  'kPBDkx64Sz': 3,\n",
       "  'eCUGJHWViJ': 4,\n",
       "  '0N04TrwhYj': 5},\n",
       " 'creative_id': {'qnROFVHsLj': 0,\n",
       "  'Eds4RcZYi8': 1,\n",
       "  'BktGCSF3p1': 2,\n",
       "  'cyStkGtLf0': 3,\n",
       "  'mUIsTWTuvz': 4,\n",
       "  'Kg2LsaXYlU': 5},\n",
       " 'creative_category': {'DAqWva5Jz3': 0,\n",
       "  'cZheiXv0Ec': 1,\n",
       "  'TIkVjf8V1h': 2,\n",
       "  'ohePbhPYsK': 3,\n",
       "  'wJgxfkbP4x': 4,\n",
       "  '8CgznkdgQk': 5}}"
      ]
     },
     "execution_count": 10,
     "metadata": {},
     "output_type": "execute_result"
    }
   ],
   "source": [
    "categorical_mappings"
   ]
  },
  {
   "cell_type": "markdown",
   "metadata": {},
   "source": [
    "Negative data:"
   ]
  },
  {
   "cell_type": "code",
   "execution_count": 11,
   "metadata": {},
   "outputs": [],
   "source": [
    "neg_df = bcns_df[bcns_df.type == 'bid'][['campaign_item_id', 'domain', 'creative_id', 'creative_category', 'win_price']]\n",
    "\n",
    "for column_name, col_mapping in categorical_mappings.items():\n",
    "    neg_df[column_name] = neg_df[column_name].apply(lambda x: col_mapping[x])\n",
    "\n",
    "x_neg = neg_df.values.astype('float32')\n",
    "y_neg = np.zeros(len(x_neg), dtype='float32')"
   ]
  },
  {
   "cell_type": "markdown",
   "metadata": {},
   "source": [
    "Positive data:"
   ]
  },
  {
   "cell_type": "code",
   "execution_count": 12,
   "metadata": {},
   "outputs": [
    {
     "name": "stderr",
     "output_type": "stream",
     "text": [
      "/home/ec2-user/anaconda3/envs/python3/lib/python3.6/site-packages/ipykernel/__main__.py:4: SettingWithCopyWarning: \n",
      "A value is trying to be set on a copy of a slice from a DataFrame.\n",
      "Try using .loc[row_indexer,col_indexer] = value instead\n",
      "\n",
      "See the caveats in the documentation: http://pandas.pydata.org/pandas-docs/stable/indexing.html#indexing-view-versus-copy\n"
     ]
    }
   ],
   "source": [
    "pos_df = impressions_df[['campaign_item_id', 'domain', 'creative_id', 'creative_category', 'win_price']]\n",
    "\n",
    "for column_name, col_mapping in categorical_mappings.items():\n",
    "    pos_df[column_name] = pos_df[column_name].apply(lambda x: col_mapping[x])\n",
    "\n",
    "x_pos = pos_df.values.astype('float32')\n",
    "y_pos = np.ones(len(x_pos), dtype='float32')"
   ]
  },
  {
   "cell_type": "markdown",
   "metadata": {},
   "source": [
    "Merge, shuffle and split:"
   ]
  },
  {
   "cell_type": "code",
   "execution_count": 13,
   "metadata": {},
   "outputs": [],
   "source": [
    "def joint_shuffle(*arrays: np.ndarray) -> tuple:\n",
    "    permuted_indexes = np.random.permutation(arrays[0].shape[0])\n",
    "    return tuple(arr[permuted_indexes] for arr in arrays)"
   ]
  },
  {
   "cell_type": "code",
   "execution_count": 14,
   "metadata": {},
   "outputs": [],
   "source": [
    "X, y = joint_shuffle(np.concatenate((x_pos, x_neg)), np.concatenate((y_pos, y_neg)))\n",
    "\n",
    "train_size = int(0.9 * X.shape[0])\n",
    "\n",
    "X_train, X_test = X[:train_size], X[train_size:]\n",
    "y_train, y_test = y[:train_size], y[train_size:]"
   ]
  },
  {
   "cell_type": "markdown",
   "metadata": {},
   "source": [
    "## Data conversion and uploading:"
   ]
  },
  {
   "cell_type": "code",
   "execution_count": 15,
   "metadata": {},
   "outputs": [],
   "source": [
    "def convert_and_upload(features: np.ndarray, labels: np.ndarray, s3_resource, bucket_name: str, file_key: str):\n",
    "    with io.BytesIO() as buffer:\n",
    "        sage.amazon.common.write_numpy_to_dense_tensor(buffer, features, labels)\n",
    "        buffer.seek(0)\n",
    "        s3_resource.Object(bucket_name, file_key).upload_fileobj(buffer)"
   ]
  },
  {
   "cell_type": "code",
   "execution_count": 16,
   "metadata": {},
   "outputs": [
    {
     "name": "stdout",
     "output_type": "stream",
     "text": [
      "CPU times: user 643 ms, sys: 0 ns, total: 643 ms\n",
      "Wall time: 747 ms\n"
     ]
    }
   ],
   "source": [
    "%%time\n",
    "\n",
    "train_data_key = 'ml/data/train/recordio-data'\n",
    "convert_and_upload(X_train, y_train, s3, S3_BUCKET_NAME, train_data_key)"
   ]
  },
  {
   "cell_type": "code",
   "execution_count": 17,
   "metadata": {},
   "outputs": [
    {
     "name": "stdout",
     "output_type": "stream",
     "text": [
      "CPU times: user 78.2 ms, sys: 0 ns, total: 78.2 ms\n",
      "Wall time: 261 ms\n"
     ]
    }
   ],
   "source": [
    "%%time\n",
    "\n",
    "test_data_key = 'ml/data/test/recordio-data'\n",
    "convert_and_upload(X_test, y_test, s3, S3_BUCKET_NAME, test_data_key)"
   ]
  },
  {
   "cell_type": "markdown",
   "metadata": {},
   "source": [
    "## Training model:"
   ]
  },
  {
   "cell_type": "code",
   "execution_count": 18,
   "metadata": {},
   "outputs": [],
   "source": [
    "container = sage.amazon.amazon_estimator.get_image_uri(boto_session.region_name, 'linear-learner')"
   ]
  },
  {
   "cell_type": "code",
   "execution_count": 19,
   "metadata": {},
   "outputs": [
    {
     "name": "stderr",
     "output_type": "stream",
     "text": [
      "WARNING:sagemaker:Couldn't call 'get_role' to get Role ARN from role name FDS-ML-TEST to get Role path.\n"
     ]
    },
    {
     "name": "stdout",
     "output_type": "stream",
     "text": [
      "CPU times: user 85.8 ms, sys: 746 µs, total: 86.5 ms\n",
      "Wall time: 934 ms\n"
     ]
    }
   ],
   "source": [
    "%%time\n",
    "\n",
    "linear = sage.estimator.Estimator(container,\n",
    "                                  sage.get_execution_role(), \n",
    "                                  train_instance_count=1, \n",
    "                                  train_instance_type='ml.m5.large',\n",
    "                                  output_path=f's3://{S3_BUCKET_NAME}/ml/model',\n",
    "                                  sagemaker_session=sess)\n",
    "\n",
    "linear.set_hyperparameters(feature_dim=X_train.shape[1],\n",
    "                           predictor_type='binary_classifier',\n",
    "                           mini_batch_size=128, \n",
    "                           epochs=1)"
   ]
  },
  {
   "cell_type": "code",
   "execution_count": 20,
   "metadata": {
    "scrolled": true
   },
   "outputs": [
    {
     "name": "stderr",
     "output_type": "stream",
     "text": [
      "INFO:sagemaker:Creating training-job with name: linear-learner-2019-01-21-11-57-23-259\n"
     ]
    },
    {
     "name": "stdout",
     "output_type": "stream",
     "text": [
      "2019-01-21 11:57:23 Starting - Starting the training job...\n",
      "2019-01-21 11:57:25 Starting - Launching requested ML instances......\n",
      "2019-01-21 11:58:24 Starting - Preparing the instances for training...\n",
      "2019-01-21 11:59:19 Downloading - Downloading input data...\n",
      "2019-01-21 11:59:48 Training - Downloading the training image..\n",
      "\u001b[31mDocker entrypoint called with argument(s): train\u001b[0m\n",
      "\u001b[31m[01/21/2019 12:00:05 INFO 139720803370816] Reading default configuration from /opt/amazon/lib/python2.7/site-packages/algorithm/default-input.json: {u'loss_insensitivity': u'0.01', u'epochs': u'15', u'init_bias': u'0.0', u'lr_scheduler_factor': u'auto', u'num_calibration_samples': u'10000000', u'accuracy_top_k': u'3', u'_num_kv_servers': u'auto', u'use_bias': u'true', u'num_point_for_scaler': u'10000', u'_log_level': u'info', u'quantile': u'0.5', u'bias_lr_mult': u'auto', u'lr_scheduler_step': u'auto', u'init_method': u'uniform', u'init_sigma': u'0.01', u'lr_scheduler_minimum_lr': u'auto', u'target_recall': u'0.8', u'num_models': u'auto', u'early_stopping_patience': u'3', u'momentum': u'auto', u'unbias_label': u'auto', u'wd': u'auto', u'optimizer': u'auto', u'_tuning_objective_metric': u'', u'early_stopping_tolerance': u'0.001', u'learning_rate': u'auto', u'_kvstore': u'auto', u'normalize_data': u'true', u'binary_classifier_model_selection_criteria': u'accuracy', u'use_lr_scheduler': u'true', u'target_precision': u'0.8', u'unbias_data': u'auto', u'init_scale': u'0.07', u'bias_wd_mult': u'auto', u'f_beta': u'1.0', u'mini_batch_size': u'1000', u'huber_delta': u'1.0', u'num_classes': u'1', u'beta_1': u'auto', u'loss': u'auto', u'beta_2': u'auto', u'_enable_profiler': u'false', u'normalize_label': u'auto', u'_num_gpus': u'auto', u'balance_multiclass_weights': u'false', u'positive_example_weight_mult': u'1.0', u'l1': u'auto', u'margin': u'1.0'}\u001b[0m\n",
      "\u001b[31m[01/21/2019 12:00:05 INFO 139720803370816] Reading provided configuration from /opt/ml/input/config/hyperparameters.json: {u'epochs': u'1', u'feature_dim': u'5', u'mini_batch_size': u'128', u'predictor_type': u'binary_classifier'}\u001b[0m\n",
      "\u001b[31m[01/21/2019 12:00:05 INFO 139720803370816] Final configuration: {u'loss_insensitivity': u'0.01', u'epochs': u'1', u'feature_dim': u'5', u'init_bias': u'0.0', u'lr_scheduler_factor': u'auto', u'num_calibration_samples': u'10000000', u'accuracy_top_k': u'3', u'_num_kv_servers': u'auto', u'use_bias': u'true', u'num_point_for_scaler': u'10000', u'_log_level': u'info', u'quantile': u'0.5', u'bias_lr_mult': u'auto', u'lr_scheduler_step': u'auto', u'init_method': u'uniform', u'init_sigma': u'0.01', u'lr_scheduler_minimum_lr': u'auto', u'target_recall': u'0.8', u'num_models': u'auto', u'early_stopping_patience': u'3', u'momentum': u'auto', u'unbias_label': u'auto', u'wd': u'auto', u'optimizer': u'auto', u'_tuning_objective_metric': u'', u'early_stopping_tolerance': u'0.001', u'learning_rate': u'auto', u'_kvstore': u'auto', u'normalize_data': u'true', u'binary_classifier_model_selection_criteria': u'accuracy', u'use_lr_scheduler': u'true', u'target_precision': u'0.8', u'unbias_data': u'auto', u'init_scale': u'0.07', u'bias_wd_mult': u'auto', u'f_beta': u'1.0', u'mini_batch_size': u'128', u'huber_delta': u'1.0', u'num_classes': u'1', u'predictor_type': u'binary_classifier', u'beta_1': u'auto', u'loss': u'auto', u'beta_2': u'auto', u'_enable_profiler': u'false', u'normalize_label': u'auto', u'_num_gpus': u'auto', u'balance_multiclass_weights': u'false', u'positive_example_weight_mult': u'1.0', u'l1': u'auto', u'margin': u'1.0'}\u001b[0m\n",
      "\u001b[31m[01/21/2019 12:00:05 WARNING 139720803370816] Loggers have already been setup.\u001b[0m\n",
      "\u001b[31mProcess 1 is a worker.\u001b[0m\n",
      "\u001b[31m[01/21/2019 12:00:05 INFO 139720803370816] Using default worker.\u001b[0m\n",
      "\u001b[31m[2019-01-21 12:00:05.758] [tensorio] [info] batch={\"data_pipeline\": \"/opt/ml/input/data/train\", \"num_examples\": 128, \"features\": [{\"name\": \"label_values\", \"shape\": [1], \"storage_type\": \"dense\"}, {\"name\": \"values\", \"shape\": [5], \"storage_type\": \"dense\"}]}\u001b[0m\n",
      "\u001b[31m[2019-01-21 12:00:05.759] [tensorio] [warning] TensorIO is already initialized; ignoring the initialization routine.\u001b[0m\n",
      "\u001b[31m[2019-01-21 12:00:05.759] [tensorio] [info] batch={\"data_pipeline\": \"/opt/ml/input/data/validation\", \"num_examples\": 128, \"features\": [{\"name\": \"label_values\", \"shape\": [1], \"storage_type\": \"dense\"}, {\"name\": \"values\", \"shape\": [5], \"storage_type\": \"dense\"}]}\u001b[0m\n",
      "\u001b[31m[2019-01-21 12:00:05.789] [tensorio] [info] data_pipeline_stats={\"name\": \"/opt/ml/input/data/train\", \"epoch\": 0, \"duration\": 32, \"num_examples\": 1}\u001b[0m\n",
      "\u001b[31m[01/21/2019 12:00:05 INFO 139720803370816] Create Store: local\u001b[0m\n",
      "\u001b[31m[2019-01-21 12:00:05.924] [tensorio] [info] data_pipeline_stats={\"name\": \"/opt/ml/input/data/train\", \"epoch\": 1, \"duration\": 134, \"num_examples\": 79}\u001b[0m\n",
      "\u001b[31m[01/21/2019 12:00:05 INFO 139720803370816] Scaler algorithm parameters\n",
      " <algorithm.scaler.ScalerAlgorithmStable object at 0x7f12f9c3b710>\u001b[0m\n",
      "\u001b[31m[01/21/2019 12:00:05 INFO 139720803370816] Scaling model computed with parameters:\n",
      " {'stdev_weight': \u001b[0m\n",
      "\u001b[31m[ 1.91094208  1.68974841  1.85823202  1.80551839  4.99911737]\u001b[0m\n",
      "\u001b[31m<NDArray 5 @cpu(0)>, 'stdev_label': None, 'mean_label': None, 'mean_weight': \u001b[0m\n",
      "\u001b[31m[ 2.04558873  2.13983393  1.76404274  2.51384449  4.90605211]\u001b[0m\n",
      "\u001b[31m<NDArray 5 @cpu(0)>}\u001b[0m\n",
      "\u001b[31m[01/21/2019 12:00:05 INFO 139720803370816] nvidia-smi took: 0.0251638889313 secs to identify 0 gpus\u001b[0m\n",
      "\u001b[31m[01/21/2019 12:00:05 INFO 139720803370816] Number of GPUs being used: 0\u001b[0m\n",
      "\u001b[31m#metrics {\"Metrics\": {\"Max Batches Seen Between Resets\": {\"count\": 1, \"max\": 79, \"sum\": 79.0, \"min\": 79}, \"Number of Batches Since Last Reset\": {\"count\": 1, \"max\": 0, \"sum\": 0.0, \"min\": 0}, \"Number of Records Since Last Reset\": {\"count\": 1, \"max\": 0, \"sum\": 0.0, \"min\": 0}, \"Total Batches Seen\": {\"count\": 1, \"max\": 80, \"sum\": 80.0, \"min\": 80}, \"Total Records Seen\": {\"count\": 1, \"max\": 10240, \"sum\": 10240.0, \"min\": 10240}, \"Max Records Seen Between Resets\": {\"count\": 1, \"max\": 10112, \"sum\": 10112.0, \"min\": 10112}, \"Reset Count\": {\"count\": 1, \"max\": 2, \"sum\": 2.0, \"min\": 2}}, \"EndTime\": 1548072006.038519, \"Dimensions\": {\"Host\": \"algo-1\", \"Meta\": \"init_train_data_iter\", \"Operation\": \"training\", \"Algorithm\": \"Linear Learner\"}, \"StartTime\": 1548072006.038479}\n",
      "\u001b[0m\n",
      "\n",
      "2019-01-21 12:00:22 Uploading - Uploading generated training model\n",
      "2019-01-21 12:00:22 Completed - Training job completed\n",
      "\u001b[31m#metrics {\"Metrics\": {\"train_binary_classification_cross_entropy_objective\": {\"count\": 1, \"max\": 0.5476275945151293, \"sum\": 0.5476275945151293, \"min\": 0.5476275945151293}}, \"EndTime\": 1548072009.469913, \"Dimensions\": {\"model\": 0, \"Host\": \"algo-1\", \"Operation\": \"training\", \"Algorithm\": \"Linear Learner\", \"epoch\": 0}, \"StartTime\": 1548072009.469835}\n",
      "\u001b[0m\n",
      "\u001b[31m#metrics {\"Metrics\": {\"train_binary_classification_cross_entropy_objective\": {\"count\": 1, \"max\": 0.5508395124364782, \"sum\": 0.5508395124364782, \"min\": 0.5508395124364782}}, \"EndTime\": 1548072009.469994, \"Dimensions\": {\"model\": 1, \"Host\": \"algo-1\", \"Operation\": \"training\", \"Algorithm\": \"Linear Learner\", \"epoch\": 0}, \"StartTime\": 1548072009.469981}\n",
      "\u001b[0m\n",
      "\u001b[31m#metrics {\"Metrics\": {\"train_binary_classification_cross_entropy_objective\": {\"count\": 1, \"max\": 0.5683785747598719, \"sum\": 0.5683785747598719, \"min\": 0.5683785747598719}}, \"EndTime\": 1548072009.470199, \"Dimensions\": {\"model\": 2, \"Host\": \"algo-1\", \"Operation\": \"training\", \"Algorithm\": \"Linear Learner\", \"epoch\": 0}, \"StartTime\": 1548072009.47018}\n",
      "\u001b[0m\n",
      "\u001b[31m#metrics {\"Metrics\": {\"train_binary_classification_cross_entropy_objective\": {\"count\": 1, \"max\": 0.5233276038258164, \"sum\": 0.5233276038258164, \"min\": 0.5233276038258164}}, \"EndTime\": 1548072009.470328, \"Dimensions\": {\"model\": 3, \"Host\": \"algo-1\", \"Operation\": \"training\", \"Algorithm\": \"Linear Learner\", \"epoch\": 0}, \"StartTime\": 1548072009.470309}\n",
      "\u001b[0m\n",
      "\u001b[31m#metrics {\"Metrics\": {\"train_binary_classification_cross_entropy_objective\": {\"count\": 1, \"max\": 0.09160164679504103, \"sum\": 0.09160164679504103, \"min\": 0.09160164679504103}}, \"EndTime\": 1548072009.470451, \"Dimensions\": {\"model\": 4, \"Host\": \"algo-1\", \"Operation\": \"training\", \"Algorithm\": \"Linear Learner\", \"epoch\": 0}, \"StartTime\": 1548072009.470434}\n",
      "\u001b[0m\n",
      "\u001b[31m#metrics {\"Metrics\": {\"train_binary_classification_cross_entropy_objective\": {\"count\": 1, \"max\": 0.08240365472242787, \"sum\": 0.08240365472242787, \"min\": 0.08240365472242787}}, \"EndTime\": 1548072009.470625, \"Dimensions\": {\"model\": 5, \"Host\": \"algo-1\", \"Operation\": \"training\", \"Algorithm\": \"Linear Learner\", \"epoch\": 0}, \"StartTime\": 1548072009.470553}\n",
      "\u001b[0m\n",
      "\u001b[31m#metrics {\"Metrics\": {\"train_binary_classification_cross_entropy_objective\": {\"count\": 1, \"max\": 0.08344202037486766, \"sum\": 0.08344202037486766, \"min\": 0.08344202037486766}}, \"EndTime\": 1548072009.470741, \"Dimensions\": {\"model\": 6, \"Host\": \"algo-1\", \"Operation\": \"training\", \"Algorithm\": \"Linear Learner\", \"epoch\": 0}, \"StartTime\": 1548072009.470669}\n",
      "\u001b[0m\n",
      "\u001b[31m#metrics {\"Metrics\": {\"train_binary_classification_cross_entropy_objective\": {\"count\": 1, \"max\": 0.0911948037851188, \"sum\": 0.0911948037851188, \"min\": 0.0911948037851188}}, \"EndTime\": 1548072009.470857, \"Dimensions\": {\"model\": 7, \"Host\": \"algo-1\", \"Operation\": \"training\", \"Algorithm\": \"Linear Learner\", \"epoch\": 0}, \"StartTime\": 1548072009.470786}\n",
      "\u001b[0m\n",
      "\u001b[31m#metrics {\"Metrics\": {\"train_binary_classification_cross_entropy_objective\": {\"count\": 1, \"max\": 0.5766157260647526, \"sum\": 0.5766157260647526, \"min\": 0.5766157260647526}}, \"EndTime\": 1548072009.47097, \"Dimensions\": {\"model\": 8, \"Host\": \"algo-1\", \"Operation\": \"training\", \"Algorithm\": \"Linear Learner\", \"epoch\": 0}, \"StartTime\": 1548072009.4709}\n",
      "\u001b[0m\n",
      "\u001b[31m#metrics {\"Metrics\": {\"train_binary_classification_cross_entropy_objective\": {\"count\": 1, \"max\": 0.5384509735637241, \"sum\": 0.5384509735637241, \"min\": 0.5384509735637241}}, \"EndTime\": 1548072009.471078, \"Dimensions\": {\"model\": 9, \"Host\": \"algo-1\", \"Operation\": \"training\", \"Algorithm\": \"Linear Learner\", \"epoch\": 0}, \"StartTime\": 1548072009.471011}\n",
      "\u001b[0m\n",
      "\u001b[31m#metrics {\"Metrics\": {\"train_binary_classification_cross_entropy_objective\": {\"count\": 1, \"max\": 0.5466301450022945, \"sum\": 0.5466301450022945, \"min\": 0.5466301450022945}}, \"EndTime\": 1548072009.471188, \"Dimensions\": {\"model\": 10, \"Host\": \"algo-1\", \"Operation\": \"training\", \"Algorithm\": \"Linear Learner\", \"epoch\": 0}, \"StartTime\": 1548072009.471121}\n",
      "\u001b[0m\n",
      "\u001b[31m#metrics {\"Metrics\": {\"train_binary_classification_cross_entropy_objective\": {\"count\": 1, \"max\": 0.5268482080212346, \"sum\": 0.5268482080212346, \"min\": 0.5268482080212346}}, \"EndTime\": 1548072009.471296, \"Dimensions\": {\"model\": 11, \"Host\": \"algo-1\", \"Operation\": \"training\", \"Algorithm\": \"Linear Learner\", \"epoch\": 0}, \"StartTime\": 1548072009.471229}\n",
      "\u001b[0m\n",
      "\u001b[31m#metrics {\"Metrics\": {\"train_binary_classification_cross_entropy_objective\": {\"count\": 1, \"max\": 0.09905499360627598, \"sum\": 0.09905499360627598, \"min\": 0.09905499360627598}}, \"EndTime\": 1548072009.471404, \"Dimensions\": {\"model\": 12, \"Host\": \"algo-1\", \"Operation\": \"training\", \"Algorithm\": \"Linear Learner\", \"epoch\": 0}, \"StartTime\": 1548072009.471337}\n",
      "\u001b[0m\n",
      "\u001b[31m#metrics {\"Metrics\": {\"train_binary_classification_cross_entropy_objective\": {\"count\": 1, \"max\": 0.09761767348757497, \"sum\": 0.09761767348757497, \"min\": 0.09761767348757497}}, \"EndTime\": 1548072009.471518, \"Dimensions\": {\"model\": 13, \"Host\": \"algo-1\", \"Operation\": \"training\", \"Algorithm\": \"Linear Learner\", \"epoch\": 0}, \"StartTime\": 1548072009.471446}\n",
      "\u001b[0m\n",
      "\u001b[31m#metrics {\"Metrics\": {\"train_binary_classification_cross_entropy_objective\": {\"count\": 1, \"max\": 0.10030644911306875, \"sum\": 0.10030644911306875, \"min\": 0.10030644911306875}}, \"EndTime\": 1548072009.471661, \"Dimensions\": {\"model\": 14, \"Host\": \"algo-1\", \"Operation\": \"training\", \"Algorithm\": \"Linear Learner\", \"epoch\": 0}, \"StartTime\": 1548072009.47156}\n",
      "\u001b[0m\n",
      "\u001b[31m#metrics {\"Metrics\": {\"train_binary_classification_cross_entropy_objective\": {\"count\": 1, \"max\": 0.09511711793365302, \"sum\": 0.09511711793365302, \"min\": 0.09511711793365302}}, \"EndTime\": 1548072009.471786, \"Dimensions\": {\"model\": 15, \"Host\": \"algo-1\", \"Operation\": \"training\", \"Algorithm\": \"Linear Learner\", \"epoch\": 0}, \"StartTime\": 1548072009.471709}\n",
      "\u001b[0m\n",
      "\u001b[31m#metrics {\"Metrics\": {\"train_binary_classification_cross_entropy_objective\": {\"count\": 1, \"max\": 0.5627579750838103, \"sum\": 0.5627579750838103, \"min\": 0.5627579750838103}}, \"EndTime\": 1548072009.471903, \"Dimensions\": {\"model\": 16, \"Host\": \"algo-1\", \"Operation\": \"training\", \"Algorithm\": \"Linear Learner\", \"epoch\": 0}, \"StartTime\": 1548072009.471832}\n",
      "\u001b[0m\n",
      "\u001b[31m#metrics {\"Metrics\": {\"train_binary_classification_cross_entropy_objective\": {\"count\": 1, \"max\": 0.5796766771210564, \"sum\": 0.5796766771210564, \"min\": 0.5796766771210564}}, \"EndTime\": 1548072009.472015, \"Dimensions\": {\"model\": 17, \"Host\": \"algo-1\", \"Operation\": \"training\", \"Algorithm\": \"Linear Learner\", \"epoch\": 0}, \"StartTime\": 1548072009.471946}\n",
      "\u001b[0m\n",
      "\u001b[31m#metrics {\"Metrics\": {\"train_binary_classification_cross_entropy_objective\": {\"count\": 1, \"max\": 0.5693032397164239, \"sum\": 0.5693032397164239, \"min\": 0.5693032397164239}}, \"EndTime\": 1548072009.472133, \"Dimensions\": {\"model\": 18, \"Host\": \"algo-1\", \"Operation\": \"training\", \"Algorithm\": \"Linear Learner\", \"epoch\": 0}, \"StartTime\": 1548072009.472059}\n",
      "\u001b[0m\n",
      "\u001b[31m#metrics {\"Metrics\": {\"train_binary_classification_cross_entropy_objective\": {\"count\": 1, \"max\": 0.5581787550890888, \"sum\": 0.5581787550890888, \"min\": 0.5581787550890888}}, \"EndTime\": 1548072009.472245, \"Dimensions\": {\"model\": 19, \"Host\": \"algo-1\", \"Operation\": \"training\", \"Algorithm\": \"Linear Learner\", \"epoch\": 0}, \"StartTime\": 1548072009.472177}\n",
      "\u001b[0m\n",
      "\u001b[31m#metrics {\"Metrics\": {\"train_binary_classification_cross_entropy_objective\": {\"count\": 1, \"max\": 0.5195632409166406, \"sum\": 0.5195632409166406, \"min\": 0.5195632409166406}}, \"EndTime\": 1548072009.472355, \"Dimensions\": {\"model\": 20, \"Host\": \"algo-1\", \"Operation\": \"training\", \"Algorithm\": \"Linear Learner\", \"epoch\": 0}, \"StartTime\": 1548072009.472288}\n",
      "\u001b[0m\n",
      "\u001b[31m#metrics {\"Metrics\": {\"train_binary_classification_cross_entropy_objective\": {\"count\": 1, \"max\": 0.5198063636267627, \"sum\": 0.5198063636267627, \"min\": 0.5198063636267627}}, \"EndTime\": 1548072009.47241, \"Dimensions\": {\"model\": 21, \"Host\": \"algo-1\", \"Operation\": \"training\", \"Algorithm\": \"Linear Learner\", \"epoch\": 0}, \"StartTime\": 1548072009.472397}\n",
      "\u001b[0m\n",
      "\u001b[31m#metrics {\"Metrics\": {\"train_binary_classification_cross_entropy_objective\": {\"count\": 1, \"max\": 0.5194105918760653, \"sum\": 0.5194105918760653, \"min\": 0.5194105918760653}}, \"EndTime\": 1548072009.47252, \"Dimensions\": {\"model\": 22, \"Host\": \"algo-1\", \"Operation\": \"training\", \"Algorithm\": \"Linear Learner\", \"epoch\": 0}, \"StartTime\": 1548072009.472504}\n",
      "\u001b[0m\n",
      "\u001b[31m#metrics {\"Metrics\": {\"train_binary_classification_cross_entropy_objective\": {\"count\": 1, \"max\": 0.5196432802412245, \"sum\": 0.5196432802412245, \"min\": 0.5196432802412245}}, \"EndTime\": 1548072009.472631, \"Dimensions\": {\"model\": 23, \"Host\": \"algo-1\", \"Operation\": \"training\", \"Algorithm\": \"Linear Learner\", \"epoch\": 0}, \"StartTime\": 1548072009.472615}\n",
      "\u001b[0m\n",
      "\u001b[31m#metrics {\"Metrics\": {\"train_binary_classification_cross_entropy_objective\": {\"count\": 1, \"max\": 0.6908476957568416, \"sum\": 0.6908476957568416, \"min\": 0.6908476957568416}}, \"EndTime\": 1548072009.472743, \"Dimensions\": {\"model\": 24, \"Host\": \"algo-1\", \"Operation\": \"training\", \"Algorithm\": \"Linear Learner\", \"epoch\": 0}, \"StartTime\": 1548072009.472728}\n",
      "\u001b[0m\n",
      "\u001b[31m#metrics {\"Metrics\": {\"train_binary_classification_cross_entropy_objective\": {\"count\": 1, \"max\": 0.6908715482111331, \"sum\": 0.6908715482111331, \"min\": 0.6908715482111331}}, \"EndTime\": 1548072009.472858, \"Dimensions\": {\"model\": 25, \"Host\": \"algo-1\", \"Operation\": \"training\", \"Algorithm\": \"Linear Learner\", \"epoch\": 0}, \"StartTime\": 1548072009.472842}\n",
      "\u001b[0m\n",
      "\u001b[31m#metrics {\"Metrics\": {\"train_binary_classification_cross_entropy_objective\": {\"count\": 1, \"max\": 0.6917228610427292, \"sum\": 0.6917228610427292, \"min\": 0.6917228610427292}}, \"EndTime\": 1548072009.472913, \"Dimensions\": {\"model\": 26, \"Host\": \"algo-1\", \"Operation\": \"training\", \"Algorithm\": \"Linear Learner\", \"epoch\": 0}, \"StartTime\": 1548072009.4729}\n",
      "\u001b[0m\n",
      "\u001b[31m#metrics {\"Metrics\": {\"train_binary_classification_cross_entropy_objective\": {\"count\": 1, \"max\": 0.6910109241803487, \"sum\": 0.6910109241803487, \"min\": 0.6910109241803487}}, \"EndTime\": 1548072009.47301, \"Dimensions\": {\"model\": 27, \"Host\": \"algo-1\", \"Operation\": \"training\", \"Algorithm\": \"Linear Learner\", \"epoch\": 0}, \"StartTime\": 1548072009.472996}\n",
      "\u001b[0m\n",
      "\u001b[31m#metrics {\"Metrics\": {\"train_binary_classification_cross_entropy_objective\": {\"count\": 1, \"max\": 0.6978429083470945, \"sum\": 0.6978429083470945, \"min\": 0.6978429083470945}}, \"EndTime\": 1548072009.473064, \"Dimensions\": {\"model\": 28, \"Host\": \"algo-1\", \"Operation\": \"training\", \"Algorithm\": \"Linear Learner\", \"epoch\": 0}, \"StartTime\": 1548072009.473051}\n",
      "\u001b[0m\n",
      "\u001b[31m#metrics {\"Metrics\": {\"train_binary_classification_cross_entropy_objective\": {\"count\": 1, \"max\": 0.6978725018324675, \"sum\": 0.6978725018324675, \"min\": 0.6978725018324675}}, \"EndTime\": 1548072009.473165, \"Dimensions\": {\"model\": 29, \"Host\": \"algo-1\", \"Operation\": \"training\", \"Algorithm\": \"Linear Learner\", \"epoch\": 0}, \"StartTime\": 1548072009.473149}\n",
      "\u001b[0m\n",
      "\u001b[31m#metrics {\"Metrics\": {\"train_binary_classification_cross_entropy_objective\": {\"count\": 1, \"max\": 0.6977476526189733, \"sum\": 0.6977476526189733, \"min\": 0.6977476526189733}}, \"EndTime\": 1548072009.473221, \"Dimensions\": {\"model\": 30, \"Host\": \"algo-1\", \"Operation\": \"training\", \"Algorithm\": \"Linear Learner\", \"epoch\": 0}, \"StartTime\": 1548072009.473208}\n",
      "\u001b[0m\n",
      "\u001b[31m#metrics {\"Metrics\": {\"train_binary_classification_cross_entropy_objective\": {\"count\": 1, \"max\": 0.6977537609912731, \"sum\": 0.6977537609912731, \"min\": 0.6977537609912731}}, \"EndTime\": 1548072009.473332, \"Dimensions\": {\"model\": 31, \"Host\": \"algo-1\", \"Operation\": \"training\", \"Algorithm\": \"Linear Learner\", \"epoch\": 0}, \"StartTime\": 1548072009.473253}\n",
      "\u001b[0m\n",
      "\u001b[31m[01/21/2019 12:00:09 INFO 139720803370816] #quality_metric: host=algo-1, epoch=0, train binary_classification_cross_entropy_objective <loss>=0.547627594515\u001b[0m\n",
      "\u001b[31m[2019-01-21 12:00:09.488] [tensorio] [info] data_pipeline_stats={\"name\": \"/opt/ml/input/data/validation\", \"epoch\": 0, \"duration\": 3728, \"num_examples\": 1}\u001b[0m\n",
      "\u001b[31m#metrics {\"Metrics\": {\"validation_binary_classification_cross_entropy_objective\": {\"count\": 1, \"max\": 0.43571894072697354, \"sum\": 0.43571894072697354, \"min\": 0.43571894072697354}}, \"EndTime\": 1548072010.084595, \"Dimensions\": {\"model\": 0, \"Host\": \"algo-1\", \"Operation\": \"training\", \"Algorithm\": \"Linear Learner\", \"epoch\": 0}, \"StartTime\": 1548072010.084523}\n",
      "\u001b[0m\n",
      "\u001b[31m#metrics {\"Metrics\": {\"validation_binary_classification_cross_entropy_objective\": {\"count\": 1, \"max\": 0.4302834251427478, \"sum\": 0.4302834251427478, \"min\": 0.4302834251427478}}, \"EndTime\": 1548072010.084673, \"Dimensions\": {\"model\": 1, \"Host\": \"algo-1\", \"Operation\": \"training\", \"Algorithm\": \"Linear Learner\", \"epoch\": 0}, \"StartTime\": 1548072010.08466}\n",
      "\u001b[0m\n",
      "\u001b[31m#metrics {\"Metrics\": {\"validation_binary_classification_cross_entropy_objective\": {\"count\": 1, \"max\": 0.4530512078471613, \"sum\": 0.4530512078471613, \"min\": 0.4530512078471613}}, \"EndTime\": 1548072010.084715, \"Dimensions\": {\"model\": 2, \"Host\": \"algo-1\", \"Operation\": \"training\", \"Algorithm\": \"Linear Learner\", \"epoch\": 0}, \"StartTime\": 1548072010.084705}\n",
      "\u001b[0m\n",
      "\u001b[31m#metrics {\"Metrics\": {\"validation_binary_classification_cross_entropy_objective\": {\"count\": 1, \"max\": 0.4078051624771481, \"sum\": 0.4078051624771481, \"min\": 0.4078051624771481}}, \"EndTime\": 1548072010.084749, \"Dimensions\": {\"model\": 3, \"Host\": \"algo-1\", \"Operation\": \"training\", \"Algorithm\": \"Linear Learner\", \"epoch\": 0}, \"StartTime\": 1548072010.084741}\n",
      "\u001b[0m\n",
      "\u001b[31m#metrics {\"Metrics\": {\"validation_binary_classification_cross_entropy_objective\": {\"count\": 1, \"max\": 0.012530187770893804, \"sum\": 0.012530187770893804, \"min\": 0.012530187770893804}}, \"EndTime\": 1548072010.084782, \"Dimensions\": {\"model\": 4, \"Host\": \"algo-1\", \"Operation\": \"training\", \"Algorithm\": \"Linear Learner\", \"epoch\": 0}, \"StartTime\": 1548072010.084773}\n",
      "\u001b[0m\n",
      "\u001b[31m#metrics {\"Metrics\": {\"validation_binary_classification_cross_entropy_objective\": {\"count\": 1, \"max\": 0.010749742550526927, \"sum\": 0.010749742550526927, \"min\": 0.010749742550526927}}, \"EndTime\": 1548072010.084814, \"Dimensions\": {\"model\": 5, \"Host\": \"algo-1\", \"Operation\": \"training\", \"Algorithm\": \"Linear Learner\", \"epoch\": 0}, \"StartTime\": 1548072010.084806}\n",
      "\u001b[0m\n",
      "\u001b[31m#metrics {\"Metrics\": {\"validation_binary_classification_cross_entropy_objective\": {\"count\": 1, \"max\": 0.011597589891107277, \"sum\": 0.011597589891107277, \"min\": 0.011597589891107277}}, \"EndTime\": 1548072010.085084, \"Dimensions\": {\"model\": 6, \"Host\": \"algo-1\", \"Operation\": \"training\", \"Algorithm\": \"Linear Learner\", \"epoch\": 0}, \"StartTime\": 1548072010.085065}\n",
      "\u001b[0m\n",
      "\u001b[31m#metrics {\"Metrics\": {\"validation_binary_classification_cross_entropy_objective\": {\"count\": 1, \"max\": 0.011692637618103343, \"sum\": 0.011692637618103343, \"min\": 0.011692637618103343}}, \"EndTime\": 1548072010.085129, \"Dimensions\": {\"model\": 7, \"Host\": \"algo-1\", \"Operation\": \"training\", \"Algorithm\": \"Linear Learner\", \"epoch\": 0}, \"StartTime\": 1548072010.085118}\n",
      "\u001b[0m\n",
      "\u001b[31m#metrics {\"Metrics\": {\"validation_binary_classification_cross_entropy_objective\": {\"count\": 1, \"max\": 0.46032546841247624, \"sum\": 0.46032546841247624, \"min\": 0.46032546841247624}}, \"EndTime\": 1548072010.085209, \"Dimensions\": {\"model\": 8, \"Host\": \"algo-1\", \"Operation\": \"training\", \"Algorithm\": \"Linear Learner\", \"epoch\": 0}, \"StartTime\": 1548072010.085195}\n",
      "\u001b[0m\n",
      "\u001b[31m#metrics {\"Metrics\": {\"validation_binary_classification_cross_entropy_objective\": {\"count\": 1, \"max\": 0.42063733981585183, \"sum\": 0.42063733981585183, \"min\": 0.42063733981585183}}, \"EndTime\": 1548072010.085252, \"Dimensions\": {\"model\": 9, \"Host\": \"algo-1\", \"Operation\": \"training\", \"Algorithm\": \"Linear Learner\", \"epoch\": 0}, \"StartTime\": 1548072010.085242}\n",
      "\u001b[0m\n",
      "\u001b[31m#metrics {\"Metrics\": {\"validation_binary_classification_cross_entropy_objective\": {\"count\": 1, \"max\": 0.43522915647836113, \"sum\": 0.43522915647836113, \"min\": 0.43522915647836113}}, \"EndTime\": 1548072010.085285, \"Dimensions\": {\"model\": 10, \"Host\": \"algo-1\", \"Operation\": \"training\", \"Algorithm\": \"Linear Learner\", \"epoch\": 0}, \"StartTime\": 1548072010.085277}\n",
      "\u001b[0m\n",
      "\u001b[31m#metrics {\"Metrics\": {\"validation_binary_classification_cross_entropy_objective\": {\"count\": 1, \"max\": 0.4111624382890861, \"sum\": 0.4111624382890861, \"min\": 0.4111624382890861}}, \"EndTime\": 1548072010.085319, \"Dimensions\": {\"model\": 11, \"Host\": \"algo-1\", \"Operation\": \"training\", \"Algorithm\": \"Linear Learner\", \"epoch\": 0}, \"StartTime\": 1548072010.085311}\n",
      "\u001b[0m\n",
      "\u001b[31m#metrics {\"Metrics\": {\"validation_binary_classification_cross_entropy_objective\": {\"count\": 1, \"max\": 0.034190815955308006, \"sum\": 0.034190815955308006, \"min\": 0.034190815955308006}}, \"EndTime\": 1548072010.085352, \"Dimensions\": {\"model\": 12, \"Host\": \"algo-1\", \"Operation\": \"training\", \"Algorithm\": \"Linear Learner\", \"epoch\": 0}, \"StartTime\": 1548072010.085344}\n",
      "\u001b[0m\n",
      "\u001b[31m#metrics {\"Metrics\": {\"validation_binary_classification_cross_entropy_objective\": {\"count\": 1, \"max\": 0.03407098348286184, \"sum\": 0.03407098348286184, \"min\": 0.03407098348286184}}, \"EndTime\": 1548072010.085386, \"Dimensions\": {\"model\": 13, \"Host\": \"algo-1\", \"Operation\": \"training\", \"Algorithm\": \"Linear Learner\", \"epoch\": 0}, \"StartTime\": 1548072010.085378}\n",
      "\u001b[0m\n",
      "\u001b[31m#metrics {\"Metrics\": {\"validation_binary_classification_cross_entropy_objective\": {\"count\": 1, \"max\": 0.03421901936923089, \"sum\": 0.03421901936923089, \"min\": 0.03421901936923089}}, \"EndTime\": 1548072010.085419, \"Dimensions\": {\"model\": 14, \"Host\": \"algo-1\", \"Operation\": \"training\", \"Algorithm\": \"Linear Learner\", \"epoch\": 0}, \"StartTime\": 1548072010.085411}\n",
      "\u001b[0m\n",
      "\u001b[31m#metrics {\"Metrics\": {\"validation_binary_classification_cross_entropy_objective\": {\"count\": 1, \"max\": 0.034039751111289956, \"sum\": 0.034039751111289956, \"min\": 0.034039751111289956}}, \"EndTime\": 1548072010.085451, \"Dimensions\": {\"model\": 15, \"Host\": \"algo-1\", \"Operation\": \"training\", \"Algorithm\": \"Linear Learner\", \"epoch\": 0}, \"StartTime\": 1548072010.085442}\n",
      "\u001b[0m\n",
      "\u001b[31m#metrics {\"Metrics\": {\"validation_binary_classification_cross_entropy_objective\": {\"count\": 1, \"max\": 0.5154863789508114, \"sum\": 0.5154863789508114, \"min\": 0.5154863789508114}}, \"EndTime\": 1548072010.085483, \"Dimensions\": {\"model\": 16, \"Host\": \"algo-1\", \"Operation\": \"training\", \"Algorithm\": \"Linear Learner\", \"epoch\": 0}, \"StartTime\": 1548072010.085475}\n",
      "\u001b[0m\n",
      "\u001b[31m#metrics {\"Metrics\": {\"validation_binary_classification_cross_entropy_objective\": {\"count\": 1, \"max\": 0.5191200694229142, \"sum\": 0.5191200694229142, \"min\": 0.5191200694229142}}, \"EndTime\": 1548072010.085587, \"Dimensions\": {\"model\": 17, \"Host\": \"algo-1\", \"Operation\": \"training\", \"Algorithm\": \"Linear Learner\", \"epoch\": 0}, \"StartTime\": 1548072010.085574}\n",
      "\u001b[0m\n",
      "\u001b[31m#metrics {\"Metrics\": {\"validation_binary_classification_cross_entropy_objective\": {\"count\": 1, \"max\": 0.517294396042454, \"sum\": 0.517294396042454, \"min\": 0.517294396042454}}, \"EndTime\": 1548072010.085626, \"Dimensions\": {\"model\": 18, \"Host\": \"algo-1\", \"Operation\": \"training\", \"Algorithm\": \"Linear Learner\", \"epoch\": 0}, \"StartTime\": 1548072010.085617}\n",
      "\u001b[0m\n",
      "\u001b[31m#metrics {\"Metrics\": {\"validation_binary_classification_cross_entropy_objective\": {\"count\": 1, \"max\": 0.5137545734551479, \"sum\": 0.5137545734551479, \"min\": 0.5137545734551479}}, \"EndTime\": 1548072010.085658, \"Dimensions\": {\"model\": 19, \"Host\": \"algo-1\", \"Operation\": \"training\", \"Algorithm\": \"Linear Learner\", \"epoch\": 0}, \"StartTime\": 1548072010.08565}\n",
      "\u001b[0m\n",
      "\u001b[31m#metrics {\"Metrics\": {\"validation_binary_classification_cross_entropy_objective\": {\"count\": 1, \"max\": 0.5190904157731254, \"sum\": 0.5190904157731254, \"min\": 0.5190904157731254}}, \"EndTime\": 1548072010.085691, \"Dimensions\": {\"model\": 20, \"Host\": \"algo-1\", \"Operation\": \"training\", \"Algorithm\": \"Linear Learner\", \"epoch\": 0}, \"StartTime\": 1548072010.085684}\n",
      "\u001b[0m\n",
      "\u001b[31m#metrics {\"Metrics\": {\"validation_binary_classification_cross_entropy_objective\": {\"count\": 1, \"max\": 0.515882711992392, \"sum\": 0.515882711992392, \"min\": 0.515882711992392}}, \"EndTime\": 1548072010.085722, \"Dimensions\": {\"model\": 21, \"Host\": \"algo-1\", \"Operation\": \"training\", \"Algorithm\": \"Linear Learner\", \"epoch\": 0}, \"StartTime\": 1548072010.085714}\n",
      "\u001b[0m\n",
      "\u001b[31m#metrics {\"Metrics\": {\"validation_binary_classification_cross_entropy_objective\": {\"count\": 1, \"max\": 0.5193455137905685, \"sum\": 0.5193455137905685, \"min\": 0.5193455137905685}}, \"EndTime\": 1548072010.085751, \"Dimensions\": {\"model\": 22, \"Host\": \"algo-1\", \"Operation\": \"training\", \"Algorithm\": \"Linear Learner\", \"epoch\": 0}, \"StartTime\": 1548072010.085744}\n",
      "\u001b[0m\n",
      "\u001b[31m#metrics {\"Metrics\": {\"validation_binary_classification_cross_entropy_objective\": {\"count\": 1, \"max\": 0.5160888175806561, \"sum\": 0.5160888175806561, \"min\": 0.5160888175806561}}, \"EndTime\": 1548072010.08578, \"Dimensions\": {\"model\": 23, \"Host\": \"algo-1\", \"Operation\": \"training\", \"Algorithm\": \"Linear Learner\", \"epoch\": 0}, \"StartTime\": 1548072010.085773}\n",
      "\u001b[0m\n",
      "\u001b[31m#metrics {\"Metrics\": {\"validation_binary_classification_cross_entropy_objective\": {\"count\": 1, \"max\": 0.6910432181412579, \"sum\": 0.6910432181412579, \"min\": 0.6910432181412579}}, \"EndTime\": 1548072010.08581, \"Dimensions\": {\"model\": 24, \"Host\": \"algo-1\", \"Operation\": \"training\", \"Algorithm\": \"Linear Learner\", \"epoch\": 0}, \"StartTime\": 1548072010.085802}\n",
      "\u001b[0m\n",
      "\u001b[31m#metrics {\"Metrics\": {\"validation_binary_classification_cross_entropy_objective\": {\"count\": 1, \"max\": 0.6910055425815523, \"sum\": 0.6910055425815523, \"min\": 0.6910055425815523}}, \"EndTime\": 1548072010.08584, \"Dimensions\": {\"model\": 25, \"Host\": \"algo-1\", \"Operation\": \"training\", \"Algorithm\": \"Linear Learner\", \"epoch\": 0}, \"StartTime\": 1548072010.085832}\n",
      "\u001b[0m\n",
      "\u001b[31m#metrics {\"Metrics\": {\"validation_binary_classification_cross_entropy_objective\": {\"count\": 1, \"max\": 0.6910272665329532, \"sum\": 0.6910272665329532, \"min\": 0.6910272665329532}}, \"EndTime\": 1548072010.085871, \"Dimensions\": {\"model\": 26, \"Host\": \"algo-1\", \"Operation\": \"training\", \"Algorithm\": \"Linear Learner\", \"epoch\": 0}, \"StartTime\": 1548072010.085863}\n",
      "\u001b[0m\n",
      "\u001b[31m#metrics {\"Metrics\": {\"validation_binary_classification_cross_entropy_objective\": {\"count\": 1, \"max\": 0.6909968209488562, \"sum\": 0.6909968209488562, \"min\": 0.6909968209488562}}, \"EndTime\": 1548072010.085902, \"Dimensions\": {\"model\": 27, \"Host\": \"algo-1\", \"Operation\": \"training\", \"Algorithm\": \"Linear Learner\", \"epoch\": 0}, \"StartTime\": 1548072010.085894}\n",
      "\u001b[0m\n",
      "\u001b[31m#metrics {\"Metrics\": {\"validation_binary_classification_cross_entropy_objective\": {\"count\": 1, \"max\": 0.6975140763907053, \"sum\": 0.6975140763907053, \"min\": 0.6975140763907053}}, \"EndTime\": 1548072010.085933, \"Dimensions\": {\"model\": 28, \"Host\": \"algo-1\", \"Operation\": \"training\", \"Algorithm\": \"Linear Learner\", \"epoch\": 0}, \"StartTime\": 1548072010.085925}\n",
      "\u001b[0m\n",
      "\u001b[31m#metrics {\"Metrics\": {\"validation_binary_classification_cross_entropy_objective\": {\"count\": 1, \"max\": 0.7012623285926732, \"sum\": 0.7012623285926732, \"min\": 0.7012623285926732}}, \"EndTime\": 1548072010.085964, \"Dimensions\": {\"model\": 29, \"Host\": \"algo-1\", \"Operation\": \"training\", \"Algorithm\": \"Linear Learner\", \"epoch\": 0}, \"StartTime\": 1548072010.085957}\n",
      "\u001b[0m\n",
      "\u001b[31m#metrics {\"Metrics\": {\"validation_binary_classification_cross_entropy_objective\": {\"count\": 1, \"max\": 0.6979465898831356, \"sum\": 0.6979465898831356, \"min\": 0.6979465898831356}}, \"EndTime\": 1548072010.085997, \"Dimensions\": {\"model\": 30, \"Host\": \"algo-1\", \"Operation\": \"training\", \"Algorithm\": \"Linear Learner\", \"epoch\": 0}, \"StartTime\": 1548072010.085989}\n",
      "\u001b[0m\n",
      "\u001b[31m#metrics {\"Metrics\": {\"validation_binary_classification_cross_entropy_objective\": {\"count\": 1, \"max\": 0.7012226411450612, \"sum\": 0.7012226411450612, \"min\": 0.7012226411450612}}, \"EndTime\": 1548072010.086031, \"Dimensions\": {\"model\": 31, \"Host\": \"algo-1\", \"Operation\": \"training\", \"Algorithm\": \"Linear Learner\", \"epoch\": 0}, \"StartTime\": 1548072010.086023}\n",
      "\u001b[0m\n",
      "\u001b[31m[01/21/2019 12:00:10 INFO 139720803370816] #quality_metric: host=algo-1, epoch=0, validation binary_classification_cross_entropy_objective <loss>=0.435718940727\u001b[0m\n",
      "\u001b[31m[01/21/2019 12:00:10 INFO 139720803370816] #early_stopping_criteria_metric: host=algo-1, epoch=0, criteria=sampled_accuracy, value=0.995863495346\u001b[0m\n",
      "\u001b[31m[01/21/2019 12:00:10 INFO 139720803370816] Epoch 0: Loss improved. Updating best model\u001b[0m\n",
      "\u001b[31m[01/21/2019 12:00:10 INFO 139720803370816] #progress_metric: host=algo-1, completed 100 % of epochs\u001b[0m\n",
      "\u001b[31m#metrics {\"Metrics\": {\"Max Batches Seen Between Resets\": {\"count\": 1, \"max\": 136, \"sum\": 136.0, \"min\": 136}, \"Number of Batches Since Last Reset\": {\"count\": 1, \"max\": 136, \"sum\": 136.0, \"min\": 136}, \"Number of Records Since Last Reset\": {\"count\": 1, \"max\": 17401, \"sum\": 17401.0, \"min\": 17401}, \"Total Batches Seen\": {\"count\": 1, \"max\": 216, \"sum\": 216.0, \"min\": 216}, \"Total Records Seen\": {\"count\": 1, \"max\": 27641, \"sum\": 27641.0, \"min\": 27641}, \"Max Records Seen Between Resets\": {\"count\": 1, \"max\": 17401, \"sum\": 17401.0, \"min\": 17401}, \"Reset Count\": {\"count\": 1, \"max\": 3, \"sum\": 3.0, \"min\": 3}}, \"EndTime\": 1548072010.087519, \"Dimensions\": {\"Host\": \"algo-1\", \"Meta\": \"training_data_iter\", \"Operation\": \"training\", \"Algorithm\": \"Linear Learner\", \"epoch\": 0}, \"StartTime\": 1548072006.038705}\n",
      "\u001b[0m\n",
      "\u001b[31m[01/21/2019 12:00:10 INFO 139720803370816] #throughput_metric: host=algo-1, train throughput=4297.70301502 records/second\u001b[0m\n",
      "\u001b[31m[01/21/2019 12:00:10 WARNING 139720803370816] wait_for_all_workers will not sync workers since the kv store is not running distributed\u001b[0m\n",
      "\u001b[31m[01/21/2019 12:00:10 WARNING 139720803370816] wait_for_all_workers will not sync workers since the kv store is not running distributed\u001b[0m\n",
      "\u001b[31m[2019-01-21 12:00:10.100] [tensorio] [info] data_pipeline_stats={\"name\": \"/opt/ml/input/data/validation\", \"epoch\": 1, \"duration\": 612, \"num_examples\": 16}\u001b[0m\n",
      "\u001b[31m[01/21/2019 12:00:10 INFO 139720803370816] #early_stopping_criteria_metric: host=algo-1, epoch=0, criteria=sampled_accuracy, value=0.995863495346\u001b[0m\n",
      "\u001b[31m[01/21/2019 12:00:10 INFO 139720803370816] Epoch 0: Loss improved. Updating best model\u001b[0m\n",
      "\u001b[31m[2019-01-21 12:00:10.678] [tensorio] [info] data_pipeline_stats={\"name\": \"/opt/ml/input/data/validation\", \"epoch\": 2, \"duration\": 572, \"num_examples\": 16}\u001b[0m\n",
      "\u001b[31m[01/21/2019 12:00:10 INFO 139720803370816] #validation_score (algo-1) : ('binary_classification_cross_entropy_objective', 0.43571894072697354)\u001b[0m\n",
      "\u001b[31m[01/21/2019 12:00:10 INFO 139720803370816] #validation_score (algo-1) : ('binary_classification_accuracy', 0.95087900723888319)\u001b[0m\n",
      "\u001b[31m[01/21/2019 12:00:10 INFO 139720803370816] #validation_score (algo-1) : ('binary_f_1.000', 0.9529935675408214)\u001b[0m\n",
      "\u001b[31m[01/21/2019 12:00:10 INFO 139720803370816] #validation_score (algo-1) : ('precision', 0.9102079395085066)\u001b[0m\n",
      "\u001b[31m[01/21/2019 12:00:10 INFO 139720803370816] #validation_score (algo-1) : ('recall', 1.0)\u001b[0m\n",
      "\u001b[31m[01/21/2019 12:00:10 INFO 139720803370816] #quality_metric: host=algo-1, validation binary_classification_cross_entropy_objective <loss>=0.435718940727\u001b[0m\n",
      "\u001b[31m[01/21/2019 12:00:10 INFO 139720803370816] #quality_metric: host=algo-1, validation binary_classification_accuracy <score>=0.950879007239\u001b[0m\n",
      "\u001b[31m[01/21/2019 12:00:10 INFO 139720803370816] #quality_metric: host=algo-1, validation binary_f_1.000 <score>=0.952993567541\u001b[0m\n",
      "\u001b[31m[01/21/2019 12:00:10 INFO 139720803370816] #quality_metric: host=algo-1, validation precision <score>=0.910207939509\u001b[0m\n",
      "\u001b[31m[01/21/2019 12:00:10 INFO 139720803370816] #quality_metric: host=algo-1, validation recall <score>=1.0\u001b[0m\n",
      "\u001b[31m[01/21/2019 12:00:10 INFO 139720803370816] Best model found for hyperparameters: {\"lr_scheduler_step\": 10, \"wd\": 0.0001, \"optimizer\": \"adam\", \"lr_scheduler_factor\": 0.99, \"l1\": 0.0, \"learning_rate\": 0.005, \"lr_scheduler_minimum_lr\": 1e-05}\u001b[0m\n",
      "\u001b[31m[01/21/2019 12:00:10 INFO 139720803370816] Saved checkpoint to \"/tmp/tmpI6rUQG/mx-mod-0000.params\"\u001b[0m\n",
      "\u001b[31m[01/21/2019 12:00:10 INFO 139720803370816] Test data is not provided.\u001b[0m\n",
      "\u001b[31m[2019-01-21 12:00:10.715] [tensorio] [info] data_pipeline_stats={\"name\": \"/opt/ml/input/data/train\", \"epoch\": 2, \"duration\": 4676, \"num_examples\": 136}\u001b[0m\n",
      "\u001b[31m[2019-01-21 12:00:10.715] [tensorio] [info] data_pipeline_stats={\"name\": \"/opt/ml/input/data/train\", \"duration\": 4842, \"num_epochs\": 3, \"num_examples\": 216}\u001b[0m\n",
      "\u001b[31m[2019-01-21 12:00:10.715] [tensorio] [info] data_pipeline_stats={\"name\": \"/opt/ml/input/data/validation\", \"epoch\": 3, \"duration\": 37, \"num_examples\": 16}\u001b[0m\n",
      "\u001b[31m[2019-01-21 12:00:10.716] [tensorio] [info] data_pipeline_stats={\"name\": \"/opt/ml/input/data/validation\", \"duration\": 4949, \"num_epochs\": 4, \"num_examples\": 49}\u001b[0m\n",
      "\u001b[31m#metrics {\"Metrics\": {\"totaltime\": {\"count\": 1, \"max\": 5046.67592048645, \"sum\": 5046.67592048645, \"min\": 5046.67592048645}, \"finalize.time\": {\"count\": 1, \"max\": 621.9251155853271, \"sum\": 621.9251155853271, \"min\": 621.9251155853271}, \"initialize.time\": {\"count\": 1, \"max\": 277.8310775756836, \"sum\": 277.8310775756836, \"min\": 277.8310775756836}, \"check_early_stopping.time\": {\"count\": 2, \"max\": 0.8480548858642578, \"sum\": 1.4410018920898438, \"min\": 0.5929470062255859}, \"setuptime\": {\"count\": 1, \"max\": 13.46588134765625, \"sum\": 13.46588134765625, \"min\": 13.46588134765625}, \"update.time\": {\"count\": 1, \"max\": 4048.619031906128, \"sum\": 4048.619031906128, \"min\": 4048.619031906128}, \"epochs\": {\"count\": 1, \"max\": 1, \"sum\": 1.0, \"min\": 1}}, \"EndTime\": 1548072010.716315, \"Dimensions\": {\"Host\": \"algo-1\", \"Operation\": \"training\", \"Algorithm\": \"Linear Learner\"}, \"StartTime\": 1548072005.756553}\n",
      "\u001b[0m\n"
     ]
    },
    {
     "name": "stdout",
     "output_type": "stream",
     "text": [
      "Billable seconds: 63\n",
      "CPU times: user 359 ms, sys: 23.7 ms, total: 383 ms\n",
      "Wall time: 3min 11s\n"
     ]
    }
   ],
   "source": [
    "%%time\n",
    "\n",
    "linear.fit({\n",
    "    'train': f's3://{S3_BUCKET_NAME}/{train_data_key}', \n",
    "    'validation': f's3://{S3_BUCKET_NAME}/{test_data_key}', \n",
    "})"
   ]
  },
  {
   "cell_type": "markdown",
   "metadata": {},
   "source": [
    "## Inference:"
   ]
  },
  {
   "cell_type": "code",
   "execution_count": 21,
   "metadata": {},
   "outputs": [
    {
     "name": "stderr",
     "output_type": "stream",
     "text": [
      "INFO:sagemaker:Creating model with name: linear-learner-2019-01-21-12-04-06-996\n",
      "INFO:sagemaker:Creating endpoint with name linear-learner-2019-01-21-11-57-23-259\n"
     ]
    },
    {
     "name": "stdout",
     "output_type": "stream",
     "text": [
      "--------------------------------------------------------------------------!"
     ]
    }
   ],
   "source": [
    "linear_predictor = linear.deploy(initial_instance_count=1,\n",
    "                                 instance_type='ml.m4.xlarge')"
   ]
  },
  {
   "cell_type": "code",
   "execution_count": 22,
   "metadata": {},
   "outputs": [],
   "source": [
    "linear_predictor.content_type = 'text/csv'\n",
    "linear_predictor.serializer = sage.predictor.csv_serializer\n",
    "linear_predictor.deserializer = sage.predictor.json_deserializer"
   ]
  },
  {
   "cell_type": "markdown",
   "metadata": {},
   "source": [
    "We predict probability of winning for the range of `win_price` with other features fixed:"
   ]
  },
  {
   "cell_type": "code",
   "execution_count": 23,
   "metadata": {},
   "outputs": [
    {
     "data": {
      "text/plain": [
       "array([  0,  10,  20,  30,  40,  50,  60,  70,  80,  90, 100])"
      ]
     },
     "execution_count": 23,
     "metadata": {},
     "output_type": "execute_result"
    }
   ],
   "source": [
    "win_price_range = np.arange(0, 101, 10)\n",
    "win_price_range"
   ]
  },
  {
   "cell_type": "code",
   "execution_count": 24,
   "metadata": {},
   "outputs": [
    {
     "data": {
      "text/plain": [
       "array([[  0.,   2.,   1.,   1.,   0.],\n",
       "       [  0.,   2.,   1.,   1.,  10.],\n",
       "       [  0.,   2.,   1.,   1.,  20.],\n",
       "       [  0.,   2.,   1.,   1.,  30.],\n",
       "       [  0.,   2.,   1.,   1.,  40.],\n",
       "       [  0.,   2.,   1.,   1.,  50.],\n",
       "       [  0.,   2.,   1.,   1.,  60.],\n",
       "       [  0.,   2.,   1.,   1.,  70.],\n",
       "       [  0.,   2.,   1.,   1.,  80.],\n",
       "       [  0.,   2.,   1.,   1.,  90.],\n",
       "       [  0.,   2.,   1.,   1., 100.]])"
      ]
     },
     "execution_count": 24,
     "metadata": {},
     "output_type": "execute_result"
    }
   ],
   "source": [
    "predict_features = np.hstack([\n",
    "    np.tile(X_test[0, :4], (len(win_price_range), 1)), \n",
    "    win_price_range.reshape((-1, 1))\n",
    "])\n",
    "predict_features"
   ]
  },
  {
   "cell_type": "markdown",
   "metadata": {},
   "source": [
    "Prediction on batch:"
   ]
  },
  {
   "cell_type": "code",
   "execution_count": 25,
   "metadata": {},
   "outputs": [],
   "source": [
    "results = linear_predictor.predict(predict_features)"
   ]
  },
  {
   "cell_type": "code",
   "execution_count": 26,
   "metadata": {},
   "outputs": [
    {
     "data": {
      "text/plain": [
       "{'predictions': [{'score': 0.3523321747779846, 'predicted_label': 0.0},\n",
       "  {'score': 0.6477640867233276, 'predicted_label': 1.0},\n",
       "  {'score': 0.8614343404769897, 'predicted_label': 1.0},\n",
       "  {'score': 0.9545783996582031, 'predicted_label': 1.0},\n",
       "  {'score': 0.9861197471618652, 'predicted_label': 1.0},\n",
       "  {'score': 0.9958535432815552, 'predicted_label': 1.0},\n",
       "  {'score': 0.9987698197364807, 'predicted_label': 1.0},\n",
       "  {'score': 0.9996358156204224, 'predicted_label': 1.0},\n",
       "  {'score': 0.9998922348022461, 'predicted_label': 1.0},\n",
       "  {'score': 0.9999681711196899, 'predicted_label': 1.0},\n",
       "  {'score': 0.9999905824661255, 'predicted_label': 1.0}]}"
      ]
     },
     "execution_count": 26,
     "metadata": {},
     "output_type": "execute_result"
    }
   ],
   "source": [
    "results"
   ]
  },
  {
   "cell_type": "code",
   "execution_count": 36,
   "metadata": {},
   "outputs": [],
   "source": [
    "def pretty_print_results(features_to_predict: np.ndarray, predictions_list: list):\n",
    "    for pred_idx in np.flipud(np.argsort([item['score'] for item in predictions_list])):\n",
    "        print(f\"\"\"Bid price: {features_to_predict[pred_idx][4]}, score: {predictions_list[pred_idx]['score']} - {'win' if predictions_list[pred_idx]['predicted_label'] == 1. else 'loss'}\"\"\")"
   ]
  },
  {
   "cell_type": "code",
   "execution_count": 38,
   "metadata": {},
   "outputs": [
    {
     "name": "stdout",
     "output_type": "stream",
     "text": [
      "Bid price: 100.0, score: 0.9999905824661255 - win\n",
      "Bid price: 90.0, score: 0.9999681711196899 - win\n",
      "Bid price: 80.0, score: 0.9998922348022461 - win\n",
      "Bid price: 70.0, score: 0.9996358156204224 - win\n",
      "Bid price: 60.0, score: 0.9987698197364807 - win\n",
      "Bid price: 50.0, score: 0.9958535432815552 - win\n",
      "Bid price: 40.0, score: 0.9861197471618652 - win\n",
      "Bid price: 30.0, score: 0.9545783996582031 - win\n",
      "Bid price: 20.0, score: 0.8614343404769897 - win\n",
      "Bid price: 10.0, score: 0.6477640867233276 - win\n",
      "Bid price: 0.0, score: 0.3523321747779846 - loss\n"
     ]
    }
   ],
   "source": [
    "pretty_print_results(predict_features, results['predictions'])"
   ]
  },
  {
   "cell_type": "markdown",
   "metadata": {},
   "source": [
    "## Delete endpoint:"
   ]
  },
  {
   "cell_type": "code",
   "execution_count": 39,
   "metadata": {},
   "outputs": [
    {
     "name": "stderr",
     "output_type": "stream",
     "text": [
      "INFO:sagemaker:Deleting endpoint with name: linear-learner-2019-01-21-11-57-23-259\n"
     ]
    }
   ],
   "source": [
    "linear_predictor.delete_endpoint()"
   ]
  }
 ],
 "metadata": {
  "kernelspec": {
   "display_name": "Python 3",
   "language": "python",
   "name": "python3"
  },
  "language_info": {
   "codemirror_mode": {
    "name": "ipython",
    "version": 3
   },
   "file_extension": ".py",
   "mimetype": "text/x-python",
   "name": "python",
   "nbconvert_exporter": "python",
   "pygments_lexer": "ipython3",
   "version": "3.6.6"
  }
 },
 "nbformat": 4,
 "nbformat_minor": 2
}
